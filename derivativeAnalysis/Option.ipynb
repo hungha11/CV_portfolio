{
 "cells": [
  {
   "cell_type": "code",
   "execution_count": 1,
   "id": "55622a60",
   "metadata": {},
   "outputs": [],
   "source": [
    "import math\n",
    "import numpy as np"
   ]
  },
  {
   "cell_type": "code",
   "execution_count": 2,
   "id": "f221eb61",
   "metadata": {},
   "outputs": [],
   "source": [
    "class StockOption(object):\n",
    "    \"\"\" \n",
    "    Father class\n",
    "    Store common attributes of a stock option \n",
    "    \"\"\"    \n",
    "    def __init__(self, S0, K, r, T, N, params):\n",
    "        self.S0 = S0 #Current underlying price\n",
    "        self.K = K #Strike price\n",
    "        self.r = r #Risk free rate\n",
    "        self.T = T #Time to maturity\n",
    "        self.N = max(1, N) # Ensure N have at least 1 time step\n",
    "        self.STs = None  # Declare the stock prices tree\n",
    "        \n",
    "        \"\"\" \n",
    "        Optional parameters used by derived classes\n",
    "        \n",
    "        The params variable is a dictionary object \n",
    "        that accepts the required additional information pertaining \n",
    "        to the model being used. \n",
    "        \"\"\"\n",
    "        \n",
    "        self.pu = params.get(\"pu\", 0)  # Probability of up state\n",
    "        self.pd = params.get(\"pd\", 0)  # Probability of down state\n",
    "        self.div = params.get(\"div\", 0)  # Dividend yield\n",
    "        self.sigma = params.get(\"sigma\", 0)  # Volatility\n",
    "        self.is_call = params.get(\"is_call\", True)  # Call or put\n",
    "        self.is_european = params.get(\"is_eu\", True)  # Eu or Am\n",
    "        \n",
    "        \"\"\" Computed values \"\"\"\n",
    "        self.dt = T/float(N)  # Single time step, in years\n",
    "        self.df = math.exp(-(r-self.div) * self.dt)  # Discount factor"
   ]
  },
  {
   "cell_type": "markdown",
   "id": "9d0122a8",
   "metadata": {},
   "source": [
    "### European Option\n",
    "European option only can be exercised on the maturity day\n",
    "### American Option\n",
    "Unlike European options that can only be exercised at maturity, American options can be exercised at any time during their lifetime."
   ]
  },
  {
   "cell_type": "code",
   "execution_count": 3,
   "id": "de0cdfc2",
   "metadata": {},
   "outputs": [],
   "source": [
    "class BinomialEuropeanOption(StockOption):\n",
    "    def __setup_parameters__(self):\n",
    "        \"\"\" Required calculations for the model \"\"\"\n",
    "        self.M = self.N + 1  # Number of terminal nodes of tree\n",
    "        self.u = 1 + self.pu  # Expected value in the up state\n",
    "        self.d = 1 - self.pd  # Expected value in the down state\n",
    "        self.qu = (math.exp((self.r-self.div)*self.dt) -\n",
    "                      self.d) / (self.u-self.d)\n",
    "        self.qd = 1-self.qu\n",
    "        \n",
    "    def _initialize_stock_price_tree_(self):\n",
    "        # Initialize terminal price nodes to zeros\n",
    "        self.STs = np.zeros(self.M)\n",
    "        # Calculate expected stock prices for each node\n",
    "        for i in range(self.M):\n",
    "            self.STs[i] = self.S0*(self.u**(self.N-i))*(self.d**i)\n",
    "            \n",
    "            \n",
    "    def _initialize_payoffs_tree_(self):\n",
    "        # Get payoffs when the option expires at terminal nodes\n",
    "        payoffs = np.maximum(0, (self.STs-self.K) if self.is_call else(self.K-self.STs))\n",
    "        return payoffs\n",
    "    def _traverse_tree_(self, payoffs):\n",
    "        # Starting from the time the option expires, traverse\n",
    "        # backwards and calculate discounted payoffs at each node\n",
    "        for i in range(self.N):\n",
    "            payoffs = (payoffs[:-1] * self.qu + payoffs[1:] * self.qd) * self.df\n",
    "        return payoffs\n",
    "    def __begin_tree_traversal__(self):\n",
    "        payoffs = self._initialize_payoffs_tree_()\n",
    "        return self._traverse_tree_(payoffs)\n",
    "    \n",
    "    def price(self):\n",
    "        \"\"\" The pricing implementation \"\"\"\n",
    "        self.__setup_parameters__()\n",
    "        self._initialize_stock_price_tree_()\n",
    "        payoffs = self.__begin_tree_traversal__()\n",
    "        return payoffs[0]  # Option value converges to first node"
   ]
  },
  {
   "cell_type": "code",
   "execution_count": 4,
   "id": "527c417a",
   "metadata": {},
   "outputs": [],
   "source": [
    "eu_option = BinomialEuropeanOption(50, 50, 0.05, 0.5, 2,{\"pu\": 0.2, \"pd\": 0.2, \"is_call\": False})"
   ]
  },
  {
   "cell_type": "code",
   "execution_count": 5,
   "id": "5a67a45a",
   "metadata": {},
   "outputs": [
    {
     "name": "stdout",
     "output_type": "stream",
     "text": [
      "4.82565175125599\n"
     ]
    }
   ],
   "source": [
    "print(eu_option.price())"
   ]
  },
  {
   "cell_type": "code",
   "execution_count": 6,
   "id": "6750ab08",
   "metadata": {},
   "outputs": [],
   "source": [
    "\"\"\" Price a European or American option by the binomial tree \"\"\"\n",
    "class BinomialTreeOption(StockOption):\n",
    "    def _setup_parameters_(self):\n",
    "        self.u = 1 + self.pu  # Expected value in the up state\n",
    "        self.d = 1 - self.pd  # Expected value in the down state\n",
    "        self.qu = (math.exp((self.r-self.div)*self.dt) -self.d)/(self.u-self.d)\n",
    "        self.qd = 1-self.qu \n",
    "        \n",
    "    def _initialize_stock_price_tree_(self):\n",
    "        # Initialize a 2D tree at T=0\n",
    "        self.STs = [np.array([self.S0])]\n",
    "        # Simulate the possible stock prices path\n",
    "        for i in range(self.N):\n",
    "            prev_branches = self.STs[-1]\n",
    "            st = np.concatenate((prev_branches*self.u,[prev_branches[-1]*self.d]))\n",
    "            self.STs.append(st)  # Add nodes at each time step\n",
    "            \n",
    "    def _initialize_payoffs_tree_(self):\n",
    "        # The payoffs when option expires\n",
    "        return np.maximum(0, (self.STs[self.N]-self.K) if self.is_call else (self.K-self.STs[self.N]))\n",
    "    \n",
    "    def __check_early_exercise__(self, payoffs, node):\n",
    "        early_ex_payoff = (self.STs[node] - self.K) if self.is_call else (self.K - self.STs[node])\n",
    "        return np.maximum(payoffs, early_ex_payoff)\n",
    "    \n",
    "    def _traverse_tree_(self, payoffs):\n",
    "        for i in reversed(range(self.N)):\n",
    "            # The payoffs from NOT exercising the option\n",
    "            payoffs = (payoffs[:-1] * self.qu + payoffs[1:] * self.qd) * self.df\n",
    "            # Payoffs from exercising, for American options\n",
    "        if not self.is_european:\n",
    "            payoffs = self.__check_early_exercise__(payoffs,i)\n",
    "            return payoffs\n",
    "    \n",
    "    def __begin_tree_traversal__(self):\n",
    "        payoffs = self._initialize_payoffs_tree_()\n",
    "        return self._traverse_tree_(payoffs)\n",
    "    \n",
    "    def price(self):\n",
    "        self._setup_parameters_()\n",
    "        self._initialize_stock_price_tree_()\n",
    "        payoffs = self.__begin_tree_traversal__()\n",
    "        return payoffs[0]"
   ]
  },
  {
   "cell_type": "code",
   "execution_count": 7,
   "id": "3b7ee465",
   "metadata": {},
   "outputs": [
    {
     "name": "stdout",
     "output_type": "stream",
     "text": [
      "4.825651751255992\n"
     ]
    }
   ],
   "source": [
    "am_option = BinomialTreeOption(50, 50, 0.05, 0.5, 2,{\"pu\": 0.2, \"pd\": 0.2, \"is_call\": False, \"is_eu\": False})\n",
    "print(am_option.price())"
   ]
  },
  {
   "cell_type": "code",
   "execution_count": null,
   "id": "2b1e2011",
   "metadata": {},
   "outputs": [],
   "source": []
  }
 ],
 "metadata": {
  "kernelspec": {
   "display_name": "Python 3 (ipykernel)",
   "language": "python",
   "name": "python3"
  },
  "language_info": {
   "codemirror_mode": {
    "name": "ipython",
    "version": 3
   },
   "file_extension": ".py",
   "mimetype": "text/x-python",
   "name": "python",
   "nbconvert_exporter": "python",
   "pygments_lexer": "ipython3",
   "version": "3.8.13"
  }
 },
 "nbformat": 4,
 "nbformat_minor": 5
}
